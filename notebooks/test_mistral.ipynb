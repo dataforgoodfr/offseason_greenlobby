{
 "cells": [
  {
   "cell_type": "markdown",
   "id": "ee216652",
   "metadata": {},
   "source": [
    "# test"
   ]
  },
  {
   "cell_type": "code",
   "execution_count": 9,
   "id": "b8b57389",
   "metadata": {},
   "outputs": [],
   "source": [
    "import os\n",
    "from mistralai import Mistral\n",
    "\n",
    "api_key = \"AN6doaDLQi3oBQ0SP51LiDd2oeVuMKYV\"\n",
    "model = \"mistral-large-latest\"\n",
    "\n",
    "client = Mistral(api_key=api_key)\n",
    "\n",
    "model = \"ministral-3b-latest\""
   ]
  },
  {
   "cell_type": "code",
   "execution_count": 10,
   "id": "bf14ae82",
   "metadata": {},
   "outputs": [],
   "source": [
    "EXPOSE_SOMMAIRE = \"Cet amendement a été proposé par le syndicat agricole Jeunes Agriculteurs.Le renouvellement des générations est vital pour assurer la sécurité et la qualité de notre alimentation, produire de la valeur ajoutée économique et environnementale dans l’agriculture et aménager l’ensemble du territoire. Cette priorité nationale repose sur un outil majeur : la régulation du marché foncier.Les règles qui le régissent doivent rendre possible la liberté d’entreprendre pour tous et garantir l’usage du foncier dans la durée. Une politique des structures responsable doit privilégier le facteur humain par rapport au jeu des capitaux, favoriser la diversité au détriment des monopoles.Les outils de lutte contre la concentration des terres ont démontré leur efficacité par le passé mais doivent s’adapter aux évolutions actuelles. Ce qui suppose de prendre des mesures efficaces .Ainsi, au-delà d’une rigoureuse application du dispositif législatif et réglementaire existant, il est fondamental d’engager une réforme foncière qui sera la colonne vertébrale du renouvellement des générations en agriculture et viendra compléter cette présente loi. L’ensemble des axes de la réforme foncière devront avoir pour finalité de favoriser la transmission et de sécuriser les installations de jeunes agriculteurs. Tel est l’objet de cet amendement.\""
   ]
  },
  {
   "cell_type": "code",
   "execution_count": 11,
   "id": "89da80c5",
   "metadata": {},
   "outputs": [],
   "source": [
    "IDEE = \"entrepreneuriat agricole\"\n"
   ]
  },
  {
   "cell_type": "code",
   "execution_count": 12,
   "id": "383c6462",
   "metadata": {},
   "outputs": [],
   "source": [
    "DESCRIPTION = \"\"\"\n",
    "    agriculture productiviste, compétitive et libérale, où l’agriculteur est vu avant tout comme un chef d’entreprise, libre de ses choix et moteur de croissance économique\n",
    "“accompagner le goût d’entreprendre et d’éviter l’écueil du découragement ou de la déconvenue face à de trop fortes contraintes” / “Limiter les délais de recours administratif pour libérer le potentiel entrepreneurial de l’agriculture”\n",
    "“l’association est, en agriculture, une modalité d’exercice du métier choisie par de nombreux chefs d’entreprise”\n",
    "“poser un cadre permettant de favoriser la liberté d’entreprendre en agriculture” \n",
    "“les freins à l’entrepreneuriat agricole sont identifiés depuis longtemps : sur réglementation, distorsions de concurrence, insécurité juridique et lourdeurs administrative”\n",
    "\"\"\"\n"
   ]
  },
  {
   "cell_type": "code",
   "execution_count": null,
   "id": "7869f192",
   "metadata": {},
   "outputs": [
    {
     "name": "stdout",
     "output_type": "stream",
     "text": [
      "Réponse du modèle : 1. Résumé de l’exposé :\n",
      "L'exposé sommaire traite de l'importance du renouvellement des générations en agriculture, en mettant l'accent sur la régulation du marché foncier pour assurer la sécurité et la qualité de l'alimentation, produire de la valeur ajoutée économique et environnementale, et aménager le territoire. Il propose une réforme foncière pour favoriser la transmission et sécuriser les installations de jeunes agriculteurs.\n",
      "\n",
      "2. Thèmes identifiés :\n",
      "- Renouvellement des générations en agriculture\n",
      "- Régulation du marché foncier\n",
      "- Liberté d'entreprendre\n",
      "- Diversité et lutte contre les monopoles\n",
      "- Efficacité des outils de lutte contre la concentration des terres\n",
      "\n",
      "3. Concepts de l’idée :\n",
      "- Agriculture productiviste et compétitive\n",
      "- Libéralisation des choix des agriculteurs\n",
      "- Moteur de croissance économique\n",
      "- Limitation des contraintes administratives\n",
      "- Favorisation de l'entrepreneuriat agricole\n",
      "\n",
      "4. Comparaison sémantique :\n",
      "- L'exposé sommaire met en avant la régulation du marché foncier et la liberté d'entreprendre, ce qui est en ligne avec l'idée d'une agriculture libérale et compétitive.\n",
      "- La réforme foncière proposée vise à sécuriser les installations de jeunes agriculteurs, ce qui peut être vu comme un soutien à l'entrepreneuriat agricole.\n",
      "- Les thèmes de diversité et de lutte contre les monopoles sont également en ligne avec l'idée de favoriser la liberté d'entreprendre.\n",
      "\n",
      "5. L’exposé est-il en lien (même implicite) avec cette idée ?\n",
      "Oui\n"
     ]
    }
   ],
   "source": [
    "prompt = (\n",
    "    \"\"\"\n",
    "    Tu es un assistant expert en analyse sémantique et en inférence.\n",
    "\n",
    "Ta tâche est de déterminer si un exposé sommaire d’amendement est en lien, même de manière implicite ou indirecte, avec une idée politique ou conceptuelle.\n",
    "\n",
    "Tu dois suivre ces étapes :\n",
    "\n",
    "1. Lire l’exposé sommaire et en donner un bref résumé.\n",
    "2. Identifier les thèmes, préoccupations ou objectifs présents, même s'ils ne sont pas formulés explicitement.\n",
    "3. Lire la description de l’idée et résumer les concepts clés qu’elle porte.\n",
    "4. Comparer les deux et indiquer si l’idée est en lien (même implicite) avec l’exposé.\n",
    "\n",
    "Réponds uniquement à la fin par \"Oui\" ou \"Non\".\n",
    "\n",
    "---\n",
    "\n",
    "Exposé sommaire :\n",
    "{}\n",
    "\n",
    "---\n",
    "\n",
    "Idée : {}\n",
    "\n",
    "Description de l’idée :\n",
    "{}\n",
    "\n",
    "---\n",
    "\n",
    "Analyse :\n",
    "1. Résumé de l’exposé :\n",
    "2. Thèmes identifiés :\n",
    "3. Concepts de l’idée :\n",
    "4. Comparaison sémantique :\n",
    "5. L’exposé est-il en lien (même implicite) avec cette idée ?\n",
    "Réponse (Oui ou Non) :\n",
    "\n",
    "    \"\"\"\n",
    ").format(\n",
    "    EXPOSE_SOMMAIRE,\n",
    "    IDEE,\n",
    "    DESCRIPTION\n",
    ")\n",
    "\n",
    "response = client.chat.complete(\n",
    "    model=model,\n",
    "    messages=[{\"role\": \"user\", \"content\": prompt}]\n",
    ")\n",
    "\n",
    "# Affichage du résultat\n",
    "print(\"Réponse du modèle :\", response.choices[0].message.content.strip())"
   ]
  },
  {
   "cell_type": "code",
   "execution_count": null,
   "id": "e76f7bc3",
   "metadata": {},
   "outputs": [],
   "source": []
  }
 ],
 "metadata": {
  "kernelspec": {
   "display_name": "greenlobby",
   "language": "python",
   "name": "python3"
  },
  "language_info": {
   "codemirror_mode": {
    "name": "ipython",
    "version": 3
   },
   "file_extension": ".py",
   "mimetype": "text/x-python",
   "name": "python",
   "nbconvert_exporter": "python",
   "pygments_lexer": "ipython3",
   "version": "3.13.3"
  }
 },
 "nbformat": 4,
 "nbformat_minor": 5
}

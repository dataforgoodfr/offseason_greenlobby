{
 "cells": [
  {
   "cell_type": "markdown",
   "id": "ee216652",
   "metadata": {},
   "source": [
    "# test"
   ]
  },
  {
   "cell_type": "code",
   "execution_count": 6,
   "id": "b8b57389",
   "metadata": {},
   "outputs": [],
   "source": [
    "import os\n",
    "from mistralai import Mistral\n"
   ]
  },
  {
   "cell_type": "code",
   "execution_count": 7,
   "id": "bf14ae82",
   "metadata": {},
   "outputs": [],
   "source": [
    "EXPOSE_SOMMAIRE = \"Cet amendement a été proposé par le syndicat agricole Jeunes Agriculteurs.Le renouvellement des générations est vital pour assurer la sécurité et la qualité de notre alimentation, produire de la valeur ajoutée économique et environnementale dans l’agriculture et aménager l’ensemble du territoire. Cette priorité nationale repose sur un outil majeur : la régulation du marché foncier.Les règles qui le régissent doivent rendre possible la liberté d’entreprendre pour tous et garantir l’usage du foncier dans la durée. Une politique des structures responsable doit privilégier le facteur humain par rapport au jeu des capitaux, favoriser la diversité au détriment des monopoles.Les outils de lutte contre la concentration des terres ont démontré leur efficacité par le passé mais doivent s’adapter aux évolutions actuelles. Ce qui suppose de prendre des mesures efficaces .Ainsi, au-delà d’une rigoureuse application du dispositif législatif et réglementaire existant, il est fondamental d’engager une réforme foncière qui sera la colonne vertébrale du renouvellement des générations en agriculture et viendra compléter cette présente loi. L’ensemble des axes de la réforme foncière devront avoir pour finalité de favoriser la transmission et de sécuriser les installations de jeunes agriculteurs. Tel est l’objet de cet amendement.\"\n",
    "IDEE = \"entrepreneuriat agricole\"\n",
    "DESCRIPTION = \"\"\"\n",
    "    agriculture productiviste, compétitive et libérale, où l’agriculteur est vu avant tout comme un chef d’entreprise, libre de ses choix et moteur de croissance économique\n",
    "“accompagner le goût d’entreprendre et d’éviter l’écueil du découragement ou de la déconvenue face à de trop fortes contraintes” / “Limiter les délais de recours administratif pour libérer le potentiel entrepreneurial de l’agriculture”\n",
    "“l’association est, en agriculture, une modalité d’exercice du métier choisie par de nombreux chefs d’entreprise”\n",
    "“poser un cadre permettant de favoriser la liberté d’entreprendre en agriculture” \n",
    "“les freins à l’entrepreneuriat agricole sont identifiés depuis longtemps : sur réglementation, distorsions de concurrence, insécurité juridique et lourdeurs administrative”\n",
    "\"\"\""
   ]
  },
  {
   "cell_type": "code",
   "execution_count": 8,
   "id": "7869f192",
   "metadata": {},
   "outputs": [],
   "source": [
    "prompt = (\n",
    "    \"\"\"\n",
    "    Tu es un assistant expert en analyse sémantique et en inférence.\n",
    "\n",
    "Ta tâche est de déterminer si un exposé sommaire d’amendement est en lien, même de manière implicite ou indirecte, avec une idée politique ou conceptuelle.\n",
    "\n",
    "Tu dois suivre ces étapes :\n",
    "\n",
    "1. Lire l’exposé sommaire et en donner un bref résumé.\n",
    "2. Identifier les thèmes, préoccupations ou objectifs présents, même s'ils ne sont pas formulés explicitement.\n",
    "3. Lire la description de l’idée et résumer les concepts clés qu’elle porte.\n",
    "4. Comparer les deux et indiquer si l’idée est en lien (même implicite) avec l’exposé.\n",
    "\n",
    "Réponds uniquement à la fin par \"Oui\" ou \"Non\".\n",
    "\n",
    "---\n",
    "\n",
    "Exposé sommaire :\n",
    "{}\n",
    "\n",
    "---\n",
    "\n",
    "Idée : {}\n",
    "\n",
    "Description de l’idée :\n",
    "{}\n",
    "\n",
    "---\n",
    "\n",
    "Analyse :\n",
    "1. Résumé de l’exposé :\n",
    "2. Thèmes identifiés :\n",
    "3. Concepts de l’idée :\n",
    "4. Comparaison sémantique :\n",
    "5. L’exposé est-il en lien (même implicite) avec cette idée ?\n",
    "Réponse (Oui ou Non) :\n",
    "\n",
    "    \"\"\"\n",
    ").format(\n",
    "    EXPOSE_SOMMAIRE,\n",
    "    IDEE,\n",
    "    DESCRIPTION\n",
    ")"
   ]
  },
  {
   "cell_type": "code",
   "execution_count": 16,
   "id": "83abc752",
   "metadata": {},
   "outputs": [],
   "source": [
    "prompt = (\n",
    "    \"\"\"\n",
    "    Instruction :\n",
    "    Vous êtes un assistant chargé d'analyser la présence d'une idée dans un texte.\n",
    "    \n",
    "    Tâche :\n",
    "\n",
    "    Étant donné :\n",
    "\n",
    "    - Idée : {}\n",
    "\n",
    "    - Description de l'idée : {}\n",
    "\n",
    "    - Exposé sommaire : {}\n",
    "\n",
    "Déterminez si l'idée décrite est présente dans l'exposé sommaire, que ce soit de manière explicite ou implicite.\n",
    "\n",
    "Répondez uniquement par :\n",
    "\n",
    "Oui\n",
    "\n",
    "Non\n",
    "\n",
    "Aucune autre information ou explication n'est requise. \"\"\").format(\n",
    "    IDEE,\n",
    "    DESCRIPTION,\n",
    "    EXPOSE_SOMMAIRE\n",
    ")\n"
   ]
  },
  {
   "cell_type": "markdown",
   "id": "1b21fa57",
   "metadata": {},
   "source": [
    "# Mistral"
   ]
  },
  {
   "cell_type": "code",
   "execution_count": 17,
   "id": "7b7905cd",
   "metadata": {},
   "outputs": [
    {
     "name": "stdout",
     "output_type": "stream",
     "text": [
      "Réponse du modèle : Oui\n"
     ]
    }
   ],
   "source": [
    "\n",
    "m_client = Mistral(api_key=os.getenv(\"MISTRAL_API_KEY\"))\n",
    "model = \"ministral-3b-latest\"\n",
    "\n",
    "response = m_client.chat.complete(\n",
    "    model=model,\n",
    "    messages=[{\"role\": \"user\", \"content\": prompt}]\n",
    ")\n",
    "\n",
    "# Affichage du résultat\n",
    "print(\"Réponse du modèle :\", response.choices[0].message.content.strip())"
   ]
  },
  {
   "cell_type": "markdown",
   "id": "72e69ebc",
   "metadata": {},
   "source": [
    "# OpenAI"
   ]
  },
  {
   "cell_type": "code",
   "execution_count": 18,
   "id": "e76f7bc3",
   "metadata": {},
   "outputs": [
    {
     "name": "stdout",
     "output_type": "stream",
     "text": [
      "Oui\n"
     ]
    }
   ],
   "source": [
    "import openai\n",
    "\n",
    "OPENAI_API_KEY = os.getenv(\"OPENAI_API_KEY\")\n",
    "if not OPENAI_API_KEY:\n",
    "    raise EnvironmentError(\"Missing OPENAI_API_KEY in environment variables.\")\n",
    "\n",
    "\n",
    "# Instancie un client OpenAI\n",
    "client = openai.OpenAI(api_key=OPENAI_API_KEY)\n",
    "response = client.chat.completions.create(\n",
    "    model=\"gpt-3.5-turbo\",\n",
    "    messages=[\n",
    "       {\"role\": \"user\", \"content\":prompt}\n",
    "    ]\n",
    ")\n",
    "print(response.choices[0].message.content)"
   ]
  },
  {
   "cell_type": "code",
   "execution_count": null,
   "id": "a6c1bdcb",
   "metadata": {},
   "outputs": [],
   "source": []
  },
  {
   "cell_type": "code",
   "execution_count": null,
   "id": "830accbf",
   "metadata": {},
   "outputs": [],
   "source": []
  }
 ],
 "metadata": {
  "kernelspec": {
   "display_name": "greenlobby",
   "language": "python",
   "name": "python3"
  },
  "language_info": {
   "codemirror_mode": {
    "name": "ipython",
    "version": 3
   },
   "file_extension": ".py",
   "mimetype": "text/x-python",
   "name": "python",
   "nbconvert_exporter": "python",
   "pygments_lexer": "ipython3",
   "version": "3.13.3"
  }
 },
 "nbformat": 4,
 "nbformat_minor": 5
}

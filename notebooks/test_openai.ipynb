{
 "cells": [
  {
   "cell_type": "markdown",
   "id": "ee216652",
   "metadata": {},
   "source": [
    "# Test prompting Open AI"
   ]
  },
  {
   "cell_type": "code",
   "execution_count": null,
   "id": "11c7b187",
   "metadata": {},
   "outputs": [
    {
     "name": "stdout",
     "output_type": "stream",
     "text": [
      "Traitement à partir de l'index 0\n"
     ]
    }
   ],
   "source": [
    "import pandas as pd\n",
    "import openai\n",
    "import time\n",
    "import os\n",
    "from tqdm import tqdm\n",
    "\n",
    "# Get OpenAI API KEY\n",
    "OPENAI_API_KEY = os.getenv(\"OPENAI_API_KEY\")\n",
    "if not OPENAI_API_KEY:\n",
    "    raise EnvironmentError(\"Missing OPENAI_API_KEY in environment variables.\")\n",
    "-\n",
    "\n",
    "# Instancie un client OpenAI\n",
    "client = openai.OpenAI(api_key=OPENAI_API_KEY)\n",
    "\n",
    "# Paramètres\n",
    "batch_size = 2\n",
    "sleep_time = 1  # Temps de repos entre les batchs\n",
    "max_retries = 3  # Nombre d'essais API en cas d'échec\n",
    "valid_responses = [\"oui\",\"non\"]\n",
    "\n",
    "df = pd.read_csv(\"../data/processed/simplification.csv\")\n",
    "df = df.dropna(subset=['EXPOSE_SOMMAIRE']).reset_index(drop=True)\n",
    "\n",
    "df = df.head(6)\n",
    "\n",
    "start_index = 0\n",
    "\n",
    "print(f\"Traitement à partir de l'index {start_index}\")"
   ]
  },
  {
   "cell_type": "code",
   "execution_count": null,
   "id": "e4218d52",
   "metadata": {},
   "outputs": [],
   "source": [
    "\n",
    "# Prompt d'instruction\n",
    "instruction_system = (\n",
    "    \"Tu es expert en analyse politique et en compréhension des mécanismes d'influence législative. \"\n",
    "    \"Tu dois analyser des amendements par rapport à l'idée suivante : \"\n",
    "    '\"limiter les délais de recours administratifs : accélérer les projets agricoles en réduisant les freins juridiques perçus comme des obstacles, '\n",
    "    'en particulier les normes environnementales.\" '\n",
    "    \"Pour chaque amendement donné, réponds uniquement par : 'en faveur', 'neutre' ou 'opposé'. \"\n",
    "    \"Ne donne aucune justification, seulement le terme demandé.\"\n",
    ")\n",
    "\n",
    "DESCRIPTION = \"Simplifier les démarches administratives, démarches bureaucratiques chronophages qui sont des freins qui entravent le quotidien des agriculteurs\"\n",
    "IDEE=\"simplification des démarches administratives\"\n",
    "EXPOSE_SOMMAIRE = \"Dans l’optique de renforcer l’efficacité du guichet unique et l’accompagnement des cédants et afin de rendre incontournable le dispositif France Services Agriculture pour tous les acteurs, il est proposé que l’attestation de passage à FSA constitue une pièce obligatoire du dossier de demande de retraite. \"\n",
    "\n",
    "instruction_system =(\n",
    "     \"Tu es un assistant expert en analyse sémantique et en inférence.\"\n",
    "     \"Ta tâche est de déterminer si un exposé sommaire d’amendement est en lien, même de manière implicite ou indirecte, avec une idée politique ou conceptuelle.\"\n",
    "     \"Tu dois suivre ces étapes:\"\n",
    "     \"1. Lire l’exposé sommaire\"\n",
    "     \"2. Identifier les thèmes, préoccupations ou objectifs présents, même s'ils ne sont pas formulés explicitement.\"\n",
    "     \"3. Lire la description de l’idée et résumer les concepts clés qu’elle porte.\"\n",
    "     \"4. Comparer les deux et indiquer si l’idée est en lien (même implicite) avec l’exposé.\"\n",
    "     \"5. Réponds uniquement à la fin par \\\"Oui\\\" ou \\\"Non\\\".\"\n",
    "     \"\"\n",
    "     \"Idée : \"\n",
    "     \"{IDEE}\"\n",
    "     \"\"\n",
    "     \"Description de l’idée :\"\n",
    "     \"{DESCRIPTION}\"\n",
    "     \"---\"\n",
    "     \"\"\n",
    "     \"\"\n",
    "     \"Si l'idée décrite est en lien indirect ou direct avec le contenu de l'exposé sommaire: Réponds uniquement par 'oui'\"\n",
    "     \"Sinon répond 'non'\"\n",
    "     \"Ne donne aucune justification, seulement le terme demandé.\"\n",
    ")\n",
    "\n",
    "# Fonction d'appel API avec retry automatique\n",
    "def batch_query(batch_texts):\n",
    "    messages = [{\"role\": \"system\", \"content\": instruction_system}]\n",
    "    for idx, amendement in enumerate(batch_texts):\n",
    "        messages.append({\n",
    "            \"role\": \"user\",\n",
    "            \"content\": f\"Amendement {idx+1} : {amendement}\"\n",
    "        })\n",
    "    \n",
    "    for attempt in range(max_retries):\n",
    "        try:\n",
    "            print(messages)\n",
    "            response = client.chat.completions.create(\n",
    "                model=\"gpt-3.5-turbo\",\n",
    "                messages=messages,\n",
    "                temperature=0,\n",
    "                n=2\n",
    "            )\n",
    "            content = response.choices[0].message.content.strip().lower()\n",
    "\n",
    "            print(\"Réponse brute GPT :\")\n",
    "            print(content)\n",
    "\n",
    "            # ✅ Nouveau découpage\n",
    "            split_results = []\n",
    "            for line in content.split(\"\\n\"):\n",
    "                if \":\" in line:\n",
    "                    _, response_text = line.split(\":\", 1)\n",
    "                    split_results.append(response_text.strip())\n",
    "\n",
    "            # Validation\n",
    "            results = []\n",
    "                        # Compléter si besoin\n",
    "            print(results)\n",
    "            for res in split_results:\n",
    "                res_clean = res.strip().lower()\n",
    "                if res_clean in valid_responses:\n",
    "                    results.append(res_clean)\n",
    "                else:\n",
    "                    results.append(\"réponse invalide\")\n",
    "\n",
    "            # Compléter si besoin\n",
    "            print(split_results)\n",
    "            while len(results) < len(batch_texts):\n",
    "                results.append(\"réponse manquante\")\n",
    "            \n",
    "            return results\n",
    "        \n",
    "        except Exception as e:\n",
    "            print(f\"Erreur API tentative {attempt+1}/{max_retries} : {e}\")\n",
    "            time.sleep((attempt + 1) * 5)\n",
    "    return [\"échec API\"] * len(batch_texts)\n"
   ]
  },
  {
   "cell_type": "code",
   "execution_count": null,
   "id": "89e2d459",
   "metadata": {},
   "outputs": [
    {
     "name": "stdout",
     "output_type": "stream",
     "text": [
      "Je suis désolé, il semble qu'il y ait une erreur. Je ne peux pas analyser sans avoir les informations de l'idée, de la description de l'idée et de l'exposé sommaire. Pourriez-vous s'il vous plaît me donner ces informations ?\n"
     ]
    }
   ],
   "source": [
    "response = client.chat.completions.create(\n",
    "    model=\"gpt-4\",\n",
    "    messages=[\n",
    "        {\"role\": \"system\", \"content\": instruction_system}\n",
    "       {\"role\": \"user\", \"Amendement 1\": {EXPOSE_SOMMAIRE}}\n",
    "    ]\n",
    ")\n",
    "print(response.choices[0].message.content)\n"
   ]
  },
  {
   "cell_type": "code",
   "execution_count": 25,
   "id": "c9047278",
   "metadata": {},
   "outputs": [
    {
     "ename": "APIRemovedInV1",
     "evalue": "\n\nYou tried to access openai.ChatCompletion, but this is no longer supported in openai>=1.0.0 - see the README at https://github.com/openai/openai-python for the API.\n\nYou can run `openai migrate` to automatically upgrade your codebase to use the 1.0.0 interface. \n\nAlternatively, you can pin your installation to the old version, e.g. `pip install openai==0.28`\n\nA detailed migration guide is available here: https://github.com/openai/openai-python/discussions/742\n",
     "output_type": "error",
     "traceback": [
      "\u001b[31m---------------------------------------------------------------------------\u001b[39m",
      "\u001b[31mAPIRemovedInV1\u001b[39m                            Traceback (most recent call last)",
      "\u001b[36mCell\u001b[39m\u001b[36m \u001b[39m\u001b[32mIn[25]\u001b[39m\u001b[32m, line 1\u001b[39m\n\u001b[32m----> \u001b[39m\u001b[32m1\u001b[39m response = \u001b[43mopenai\u001b[49m\u001b[43m.\u001b[49m\u001b[43mChatCompletion\u001b[49m\u001b[43m.\u001b[49m\u001b[43mcreate\u001b[49m\u001b[43m(\u001b[49m\n\u001b[32m      2\u001b[39m \u001b[43m    \u001b[49m\u001b[43mmodel\u001b[49m\u001b[43m=\u001b[49m\u001b[33;43m\"\u001b[39;49m\u001b[33;43mgpt-3.5-turbo\u001b[39;49m\u001b[33;43m\"\u001b[39;49m\u001b[43m,\u001b[49m\n\u001b[32m      3\u001b[39m \u001b[43m    \u001b[49m\u001b[43mmessages\u001b[49m\u001b[43m=\u001b[49m\u001b[43m[\u001b[49m\n\u001b[32m      4\u001b[39m \u001b[43m        \u001b[49m\u001b[43m{\u001b[49m\u001b[33;43m\"\u001b[39;49m\u001b[33;43mrole\u001b[39;49m\u001b[33;43m\"\u001b[39;49m\u001b[43m:\u001b[49m\u001b[43m \u001b[49m\u001b[33;43m\"\u001b[39;49m\u001b[33;43muser\u001b[39;49m\u001b[33;43m\"\u001b[39;49m\u001b[43m,\u001b[49m\u001b[43m \u001b[49m\u001b[33;43m\"\u001b[39;49m\u001b[33;43mcontent\u001b[39;49m\u001b[33;43m\"\u001b[39;49m\u001b[43m:\u001b[49m\u001b[43m \u001b[49m\u001b[43minstruction_system\u001b[49m\u001b[43m}\u001b[49m\n\u001b[32m      5\u001b[39m \u001b[43m    \u001b[49m\u001b[43m]\u001b[49m\n\u001b[32m      6\u001b[39m \u001b[43m)\u001b[49m\n\u001b[32m      8\u001b[39m \u001b[38;5;28mprint\u001b[39m(response.choices[\u001b[32m0\u001b[39m].message[\u001b[33m\"\u001b[39m\u001b[33mcontent\u001b[39m\u001b[33m\"\u001b[39m])\n",
      "\u001b[36mFile \u001b[39m\u001b[32m~/Desktop/Code/offseason_greenlobby/greenlobby/lib/python3.13/site-packages/openai/lib/_old_api.py:39\u001b[39m, in \u001b[36mAPIRemovedInV1Proxy.__call__\u001b[39m\u001b[34m(self, *_args, **_kwargs)\u001b[39m\n\u001b[32m     38\u001b[39m \u001b[38;5;28;01mdef\u001b[39;00m\u001b[38;5;250m \u001b[39m\u001b[34m__call__\u001b[39m(\u001b[38;5;28mself\u001b[39m, *_args: Any, **_kwargs: Any) -> Any:\n\u001b[32m---> \u001b[39m\u001b[32m39\u001b[39m     \u001b[38;5;28;01mraise\u001b[39;00m APIRemovedInV1(symbol=\u001b[38;5;28mself\u001b[39m._symbol)\n",
      "\u001b[31mAPIRemovedInV1\u001b[39m: \n\nYou tried to access openai.ChatCompletion, but this is no longer supported in openai>=1.0.0 - see the README at https://github.com/openai/openai-python for the API.\n\nYou can run `openai migrate` to automatically upgrade your codebase to use the 1.0.0 interface. \n\nAlternatively, you can pin your installation to the old version, e.g. `pip install openai==0.28`\n\nA detailed migration guide is available here: https://github.com/openai/openai-python/discussions/742\n"
     ]
    }
   ],
   "source": [
    "response = openai.ChatCompletion.create(\n",
    "    model=\"gpt-3.5-turbo\",\n",
    "    messages=[\n",
    "        {\"role\": \"user\", \"content\": instruction_system}\n",
    "    ]\n",
    ")\n",
    "\n",
    "print(response.choices[0].message[\"content\"])"
   ]
  },
  {
   "cell_type": "markdown",
   "id": "09fc1b77",
   "metadata": {},
   "source": [
    "# No batch"
   ]
  },
  {
   "cell_type": "code",
   "execution_count": null,
   "id": "c8489def",
   "metadata": {},
   "outputs": [],
   "source": [
    "response = client.chat.completions.create(\n",
    "                model=\"gpt-3.5-turbo\",\n",
    "                messages=[{\"role\": \"user\", \"content\": instruction_system}],\n",
    "                temperature=0,\n",
    "                n=2\n",
    "            )"
   ]
  },
  {
   "cell_type": "code",
   "execution_count": 23,
   "id": "1b820200",
   "metadata": {},
   "outputs": [
    {
     "name": "stderr",
     "output_type": "stream",
     "text": [
      "Traitement des amendements:   0%|          | 0/3 [00:00<?, ?it/s]"
     ]
    },
    {
     "name": "stdout",
     "output_type": "stream",
     "text": [
      "[{'role': 'system', 'content': 'Tu es un assistant expert en analyse sémantique et en inférence.Ta tâche est de déterminer si un exposé sommaire d’amendement est en lien, même de manière implicite ou indirecte, avec une idée politique ou conceptuelle.Tu dois suivre ces étapes :1. Lire l’exposé sommaire et en donner un bref résumé.2. Identifier les thèmes, préoccupations ou objectifs présents, même s\\'ils ne sont pas formulés explicitement.3. Lire la description de l’idée et résumer les concepts clés qu’elle porte.4. Comparer les deux et indiquer si l’idée est en lien (même implicite) avec l’exposé.5. Réponds uniquement à la fin par \"Oui\" ou \"Non\".Idée : {IDEE}Description de l’idée :{DESCRIPTION}---Analyse:1. Résumé de l’exposé :2. Thèmes identifiés :3. Concepts de l’idée :4. Comparaison sémantique :5. L’exposé est-il en lien (même implicite) avec cette idée ?Si l\\'idée décrite est en lien indirect ou direct avec le contenu de l\\'exposé sommaire: Réponds uniquement par \\'oui\\'Sinon répond \\'non\\'Ne donne aucune justification, seulement le terme demandé.'}, {'role': 'user', 'content': 'Amendement 1 : Dans l’optique de renforcer l’efficacité du guichet unique et l’accompagnement des cédants et afin de rendre incontournable le dispositif France Services Agriculture pour tous les acteurs, il est proposé que l’attestation de passage à FSA constitue une pièce obligatoire du dossier de demande de retraite. \\nLe parcours ainsi établi a fait l’objet d’un consensus à l’issue des concertations, régionales et nationale, menées en 2022-2023, et des recommandations du Conseil économique, social et environnemental. Cet accompagnement permet de répondre aux objectifs d’intérêt général de la\\n politique agricole énoncés à l’article L. 1 du code rural et de la pêche'}, {'role': 'user', 'content': 'Amendement 2 : Cet article a pour but de réhausser les seuils de la nomenclature IOTA pour la protection et la consolidation des berges par des techniques autres que végétales vivantes. \\nUn des objectifs du gouvernement, retranscrit dans le pacte en faveur de la haie, est la simplification des règlementations autour des haies. \\nDe plus, le gouvernement, dans ce même document, énonce qu’”une vision dynamique de l’évolution du linéaire de haie est nécessaire”. \\nAinsi, le rehaussement des seuils vise à répondre aux exigences du Pacte en faveur de la haie.'}]\n"
     ]
    },
    {
     "name": "stderr",
     "output_type": "stream",
     "text": [
      "Traitement des amendements:   0%|          | 0/3 [00:02<?, ?it/s]"
     ]
    },
    {
     "name": "stdout",
     "output_type": "stream",
     "text": [
      "Réponse brute GPT :\n",
      "idee : protection de l'environnement et promotion des pratiques durables.\n",
      "description : l'idée vise à encourager des pratiques respectueuses de l'environnement, telles que la protection des berges et la promotion des haies, pour assurer la durabilité des ressources naturelles.\n",
      "\n",
      "---\n",
      "\n",
      "analyse:\n",
      "1. amendement 1 : propose de rendre obligatoire l'attestation de passage à france services agriculture pour la demande de retraite des acteurs agricoles, en soulignant l'importance de l'accompagnement et de l'efficacité du guichet unique.\n",
      "2. thèmes identifiés : accompagnement des acteurs agricoles, efficacité des services, consensus régional et national, objectifs d'intérêt général de la politique agricole.\n",
      "3. concepts de l’idée : protection de l'environnement, pratiques durables, promotion des haies, simplification des règlementations.\n",
      "4. comparaison sémantique : l'amendement 1 ne traite pas directement de la protection de l'environnement ou de la promotion des pratiques durables, mais plutôt de l'accompagnement des acteurs agricoles dans le cadre de leur retraite.\n",
      "5. l’exposé est-il en lien (même implicite) avec cette idée ? non\n",
      "[]\n",
      "[\"protection de l'environnement et promotion des pratiques durables.\", \"l'idée vise à encourager des pratiques respectueuses de l'environnement, telles que la protection des berges et la promotion des haies, pour assurer la durabilité des ressources naturelles.\", '', \"propose de rendre obligatoire l'attestation de passage à france services agriculture pour la demande de retraite des acteurs agricoles, en soulignant l'importance de l'accompagnement et de l'efficacité du guichet unique.\", \"accompagnement des acteurs agricoles, efficacité des services, consensus régional et national, objectifs d'intérêt général de la politique agricole.\", \"protection de l'environnement, pratiques durables, promotion des haies, simplification des règlementations.\", \"l'amendement 1 ne traite pas directement de la protection de l'environnement ou de la promotion des pratiques durables, mais plutôt de l'accompagnement des acteurs agricoles dans le cadre de leur retraite.\"]\n"
     ]
    },
    {
     "name": "stderr",
     "output_type": "stream",
     "text": [
      "\n"
     ]
    },
    {
     "ename": "ValueError",
     "evalue": "All arrays must be of the same length",
     "output_type": "error",
     "traceback": [
      "\u001b[31m---------------------------------------------------------------------------\u001b[39m",
      "\u001b[31mValueError\u001b[39m                                Traceback (most recent call last)",
      "\u001b[36mCell\u001b[39m\u001b[36m \u001b[39m\u001b[32mIn[23]\u001b[39m\u001b[32m, line 8\u001b[39m\n\u001b[32m      4\u001b[39m ids = df.index[i:i+batch_size].tolist()\n\u001b[32m      6\u001b[39m results = batch_query(batch)\n\u001b[32m----> \u001b[39m\u001b[32m8\u001b[39m batch_df = \u001b[43mpd\u001b[49m\u001b[43m.\u001b[49m\u001b[43mDataFrame\u001b[49m\u001b[43m(\u001b[49m\u001b[43m{\u001b[49m\n\u001b[32m      9\u001b[39m \u001b[43m    \u001b[49m\u001b[33;43m'\u001b[39;49m\u001b[33;43mIndex\u001b[39;49m\u001b[33;43m'\u001b[39;49m\u001b[43m:\u001b[49m\u001b[43m \u001b[49m\u001b[43mids\u001b[49m\u001b[43m,\u001b[49m\n\u001b[32m     10\u001b[39m \u001b[43m    \u001b[49m\u001b[33;43m'\u001b[39;49m\u001b[33;43mEXPOSE_SOMMAIRE\u001b[39;49m\u001b[33;43m'\u001b[39;49m\u001b[43m:\u001b[49m\u001b[43m \u001b[49m\u001b[43mbatch\u001b[49m\u001b[43m,\u001b[49m\n\u001b[32m     11\u001b[39m \u001b[43m    \u001b[49m\u001b[33;43m'\u001b[39;49m\u001b[33;43mResultatAnalyse\u001b[39;49m\u001b[33;43m'\u001b[39;49m\u001b[43m:\u001b[49m\u001b[43m \u001b[49m\u001b[43mresults\u001b[49m\n\u001b[32m     12\u001b[39m \u001b[43m\u001b[49m\u001b[43m}\u001b[49m\u001b[43m)\u001b[49m\n\u001b[32m     14\u001b[39m \u001b[38;5;28mprint\u001b[39m(batch_df)\n\u001b[32m     15\u001b[39m \u001b[38;5;66;03m# result_df = pd.concat([result_df, batch_df], ignore_index=True)\u001b[39;00m\n\u001b[32m     16\u001b[39m \n\u001b[32m     17\u001b[39m \u001b[38;5;66;03m# Sauvegarde régulière\u001b[39;00m\n",
      "\u001b[36mFile \u001b[39m\u001b[32m~/Desktop/Code/offseason_greenlobby/greenlobby/lib/python3.13/site-packages/pandas/core/frame.py:778\u001b[39m, in \u001b[36mDataFrame.__init__\u001b[39m\u001b[34m(self, data, index, columns, dtype, copy)\u001b[39m\n\u001b[32m    772\u001b[39m     mgr = \u001b[38;5;28mself\u001b[39m._init_mgr(\n\u001b[32m    773\u001b[39m         data, axes={\u001b[33m\"\u001b[39m\u001b[33mindex\u001b[39m\u001b[33m\"\u001b[39m: index, \u001b[33m\"\u001b[39m\u001b[33mcolumns\u001b[39m\u001b[33m\"\u001b[39m: columns}, dtype=dtype, copy=copy\n\u001b[32m    774\u001b[39m     )\n\u001b[32m    776\u001b[39m \u001b[38;5;28;01melif\u001b[39;00m \u001b[38;5;28misinstance\u001b[39m(data, \u001b[38;5;28mdict\u001b[39m):\n\u001b[32m    777\u001b[39m     \u001b[38;5;66;03m# GH#38939 de facto copy defaults to False only in non-dict cases\u001b[39;00m\n\u001b[32m--> \u001b[39m\u001b[32m778\u001b[39m     mgr = \u001b[43mdict_to_mgr\u001b[49m\u001b[43m(\u001b[49m\u001b[43mdata\u001b[49m\u001b[43m,\u001b[49m\u001b[43m \u001b[49m\u001b[43mindex\u001b[49m\u001b[43m,\u001b[49m\u001b[43m \u001b[49m\u001b[43mcolumns\u001b[49m\u001b[43m,\u001b[49m\u001b[43m \u001b[49m\u001b[43mdtype\u001b[49m\u001b[43m=\u001b[49m\u001b[43mdtype\u001b[49m\u001b[43m,\u001b[49m\u001b[43m \u001b[49m\u001b[43mcopy\u001b[49m\u001b[43m=\u001b[49m\u001b[43mcopy\u001b[49m\u001b[43m,\u001b[49m\u001b[43m \u001b[49m\u001b[43mtyp\u001b[49m\u001b[43m=\u001b[49m\u001b[43mmanager\u001b[49m\u001b[43m)\u001b[49m\n\u001b[32m    779\u001b[39m \u001b[38;5;28;01melif\u001b[39;00m \u001b[38;5;28misinstance\u001b[39m(data, ma.MaskedArray):\n\u001b[32m    780\u001b[39m     \u001b[38;5;28;01mfrom\u001b[39;00m\u001b[38;5;250m \u001b[39m\u001b[34;01mnumpy\u001b[39;00m\u001b[34;01m.\u001b[39;00m\u001b[34;01mma\u001b[39;00m\u001b[38;5;250m \u001b[39m\u001b[38;5;28;01mimport\u001b[39;00m mrecords\n",
      "\u001b[36mFile \u001b[39m\u001b[32m~/Desktop/Code/offseason_greenlobby/greenlobby/lib/python3.13/site-packages/pandas/core/internals/construction.py:503\u001b[39m, in \u001b[36mdict_to_mgr\u001b[39m\u001b[34m(data, index, columns, dtype, typ, copy)\u001b[39m\n\u001b[32m    499\u001b[39m     \u001b[38;5;28;01melse\u001b[39;00m:\n\u001b[32m    500\u001b[39m         \u001b[38;5;66;03m# dtype check to exclude e.g. range objects, scalars\u001b[39;00m\n\u001b[32m    501\u001b[39m         arrays = [x.copy() \u001b[38;5;28;01mif\u001b[39;00m \u001b[38;5;28mhasattr\u001b[39m(x, \u001b[33m\"\u001b[39m\u001b[33mdtype\u001b[39m\u001b[33m\"\u001b[39m) \u001b[38;5;28;01melse\u001b[39;00m x \u001b[38;5;28;01mfor\u001b[39;00m x \u001b[38;5;129;01min\u001b[39;00m arrays]\n\u001b[32m--> \u001b[39m\u001b[32m503\u001b[39m \u001b[38;5;28;01mreturn\u001b[39;00m \u001b[43marrays_to_mgr\u001b[49m\u001b[43m(\u001b[49m\u001b[43marrays\u001b[49m\u001b[43m,\u001b[49m\u001b[43m \u001b[49m\u001b[43mcolumns\u001b[49m\u001b[43m,\u001b[49m\u001b[43m \u001b[49m\u001b[43mindex\u001b[49m\u001b[43m,\u001b[49m\u001b[43m \u001b[49m\u001b[43mdtype\u001b[49m\u001b[43m=\u001b[49m\u001b[43mdtype\u001b[49m\u001b[43m,\u001b[49m\u001b[43m \u001b[49m\u001b[43mtyp\u001b[49m\u001b[43m=\u001b[49m\u001b[43mtyp\u001b[49m\u001b[43m,\u001b[49m\u001b[43m \u001b[49m\u001b[43mconsolidate\u001b[49m\u001b[43m=\u001b[49m\u001b[43mcopy\u001b[49m\u001b[43m)\u001b[49m\n",
      "\u001b[36mFile \u001b[39m\u001b[32m~/Desktop/Code/offseason_greenlobby/greenlobby/lib/python3.13/site-packages/pandas/core/internals/construction.py:114\u001b[39m, in \u001b[36marrays_to_mgr\u001b[39m\u001b[34m(arrays, columns, index, dtype, verify_integrity, typ, consolidate)\u001b[39m\n\u001b[32m    111\u001b[39m \u001b[38;5;28;01mif\u001b[39;00m verify_integrity:\n\u001b[32m    112\u001b[39m     \u001b[38;5;66;03m# figure out the index, if necessary\u001b[39;00m\n\u001b[32m    113\u001b[39m     \u001b[38;5;28;01mif\u001b[39;00m index \u001b[38;5;129;01mis\u001b[39;00m \u001b[38;5;28;01mNone\u001b[39;00m:\n\u001b[32m--> \u001b[39m\u001b[32m114\u001b[39m         index = \u001b[43m_extract_index\u001b[49m\u001b[43m(\u001b[49m\u001b[43marrays\u001b[49m\u001b[43m)\u001b[49m\n\u001b[32m    115\u001b[39m     \u001b[38;5;28;01melse\u001b[39;00m:\n\u001b[32m    116\u001b[39m         index = ensure_index(index)\n",
      "\u001b[36mFile \u001b[39m\u001b[32m~/Desktop/Code/offseason_greenlobby/greenlobby/lib/python3.13/site-packages/pandas/core/internals/construction.py:677\u001b[39m, in \u001b[36m_extract_index\u001b[39m\u001b[34m(data)\u001b[39m\n\u001b[32m    675\u001b[39m lengths = \u001b[38;5;28mlist\u001b[39m(\u001b[38;5;28mset\u001b[39m(raw_lengths))\n\u001b[32m    676\u001b[39m \u001b[38;5;28;01mif\u001b[39;00m \u001b[38;5;28mlen\u001b[39m(lengths) > \u001b[32m1\u001b[39m:\n\u001b[32m--> \u001b[39m\u001b[32m677\u001b[39m     \u001b[38;5;28;01mraise\u001b[39;00m \u001b[38;5;167;01mValueError\u001b[39;00m(\u001b[33m\"\u001b[39m\u001b[33mAll arrays must be of the same length\u001b[39m\u001b[33m\"\u001b[39m)\n\u001b[32m    679\u001b[39m \u001b[38;5;28;01mif\u001b[39;00m have_dicts:\n\u001b[32m    680\u001b[39m     \u001b[38;5;28;01mraise\u001b[39;00m \u001b[38;5;167;01mValueError\u001b[39;00m(\n\u001b[32m    681\u001b[39m         \u001b[33m\"\u001b[39m\u001b[33mMixing dicts with non-Series may lead to ambiguous ordering.\u001b[39m\u001b[33m\"\u001b[39m\n\u001b[32m    682\u001b[39m     )\n",
      "\u001b[31mValueError\u001b[39m: All arrays must be of the same length"
     ]
    }
   ],
   "source": [
    "\n",
    "# Boucle principale avec barre de progression\n",
    "for i in tqdm(range(start_index, len(df), batch_size), desc=\"Traitement des amendements\"):\n",
    "    batch = df['EXPOSE_SOMMAIRE'][i:i+batch_size].tolist()\n",
    "    ids = df.index[i:i+batch_size].tolist()\n",
    "\n",
    "    results = batch_query(batch)\n",
    "\n",
    "    batch_df = pd.DataFrame({\n",
    "        'Index': ids,\n",
    "        'EXPOSE_SOMMAIRE': batch,\n",
    "        'ResultatAnalyse': results\n",
    "    })\n",
    "    \n",
    "    print(batch_df)\n",
    "    # result_df = pd.concat([result_df, batch_df], ignore_index=True)\n",
    "    \n",
    "    # Sauvegarde régulière\n",
    "    result_df.to_csv(output_file, index=False)\n",
    "    \n",
    "    time.sleep(sleep_time)\n",
    "\n",
    "print(\"✅ Analyse terminée.\")"
   ]
  },
  {
   "cell_type": "code",
   "execution_count": null,
   "id": "b304c95a",
   "metadata": {},
   "outputs": [],
   "source": []
  }
 ],
 "metadata": {
  "kernelspec": {
   "display_name": "greenlobby",
   "language": "python",
   "name": "python3"
  },
  "language_info": {
   "codemirror_mode": {
    "name": "ipython",
    "version": 3
   },
   "file_extension": ".py",
   "mimetype": "text/x-python",
   "name": "python",
   "nbconvert_exporter": "python",
   "pygments_lexer": "ipython3",
   "version": "3.13.3"
  }
 },
 "nbformat": 4,
 "nbformat_minor": 5
}

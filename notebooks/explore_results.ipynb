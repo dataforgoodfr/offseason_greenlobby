{
 "cells": [
  {
   "cell_type": "code",
   "execution_count": 1,
   "id": "d1740e88",
   "metadata": {},
   "outputs": [],
   "source": [
    "import pandas as pd"
   ]
  },
  {
   "cell_type": "code",
   "execution_count": 4,
   "id": "5897e138",
   "metadata": {},
   "outputs": [
    {
     "data": {
      "text/html": [
       "<div>\n",
       "<style scoped>\n",
       "    .dataframe tbody tr th:only-of-type {\n",
       "        vertical-align: middle;\n",
       "    }\n",
       "\n",
       "    .dataframe tbody tr th {\n",
       "        vertical-align: top;\n",
       "    }\n",
       "\n",
       "    .dataframe thead th {\n",
       "        text-align: right;\n",
       "    }\n",
       "</style>\n",
       "<table border=\"1\" class=\"dataframe\">\n",
       "  <thead>\n",
       "    <tr style=\"text-align: right;\">\n",
       "      <th></th>\n",
       "      <th>Nom du fichier</th>\n",
       "      <th>ExposeSommaire</th>\n",
       "      <th>Unnamed: 2</th>\n",
       "      <th>IDEES</th>\n",
       "      <th>DESCRIPTION</th>\n",
       "      <th>NOM_AMENDEMENT</th>\n",
       "      <th>LABEL</th>\n",
       "      <th>EXPLICATION</th>\n",
       "      <th>prediction</th>\n",
       "      <th>prompt</th>\n",
       "    </tr>\n",
       "  </thead>\n",
       "  <tbody>\n",
       "    <tr>\n",
       "      <th>0</th>\n",
       "      <td>AMANR5L16PO791932BTC2600P0D1N004433.json</td>\n",
       "      <td>Cet amendement vise à simplifier les procédure...</td>\n",
       "      <td>NaN</td>\n",
       "      <td>lourdeurs administratives = simplifier les pro...</td>\n",
       "      <td>réduire les démarches bureaucratiques complexe...</td>\n",
       "      <td>AMANR5L16PO791932BTC2600P0D1N004433.json</td>\n",
       "      <td>OUI</td>\n",
       "      <td>Simplification administrative qui sert à lutte...</td>\n",
       "      <td>Oui</td>\n",
       "      <td>Tu es un assistant expert en analyse sémantiqu...</td>\n",
       "    </tr>\n",
       "    <tr>\n",
       "      <th>1</th>\n",
       "      <td>AMANR5L16PO419610B2436P0D1N002108.json</td>\n",
       "      <td>La demande d’extension d’un accord interprofes...</td>\n",
       "      <td>NaN</td>\n",
       "      <td>lourdeurs administratives = simplifier les pro...</td>\n",
       "      <td>réduire les démarches bureaucratiques complexe...</td>\n",
       "      <td>AMANR5L16PO419610B2436P0D1N002108.json</td>\n",
       "      <td>OUI</td>\n",
       "      <td>Je ne sais pas si c'est bien ou pas</td>\n",
       "      <td>Oui</td>\n",
       "      <td>Tu es un assistant expert en analyse sémantiqu...</td>\n",
       "    </tr>\n",
       "  </tbody>\n",
       "</table>\n",
       "</div>"
      ],
      "text/plain": [
       "                             Nom du fichier  \\\n",
       "0  AMANR5L16PO791932BTC2600P0D1N004433.json   \n",
       "1    AMANR5L16PO419610B2436P0D1N002108.json   \n",
       "\n",
       "                                      ExposeSommaire  Unnamed: 2  \\\n",
       "0  Cet amendement vise à simplifier les procédure...         NaN   \n",
       "1  La demande d’extension d’un accord interprofes...         NaN   \n",
       "\n",
       "                                               IDEES  \\\n",
       "0  lourdeurs administratives = simplifier les pro...   \n",
       "1  lourdeurs administratives = simplifier les pro...   \n",
       "\n",
       "                                         DESCRIPTION  \\\n",
       "0  réduire les démarches bureaucratiques complexe...   \n",
       "1  réduire les démarches bureaucratiques complexe...   \n",
       "\n",
       "                             NOM_AMENDEMENT LABEL  \\\n",
       "0  AMANR5L16PO791932BTC2600P0D1N004433.json   OUI   \n",
       "1    AMANR5L16PO419610B2436P0D1N002108.json   OUI   \n",
       "\n",
       "                                         EXPLICATION prediction  \\\n",
       "0  Simplification administrative qui sert à lutte...        Oui   \n",
       "1                Je ne sais pas si c'est bien ou pas        Oui   \n",
       "\n",
       "                                              prompt  \n",
       "0  Tu es un assistant expert en analyse sémantiqu...  \n",
       "1  Tu es un assistant expert en analyse sémantiqu...  "
      ]
     },
     "execution_count": 4,
     "metadata": {},
     "output_type": "execute_result"
    }
   ],
   "source": [
    "df_res = pd.read_csv('../data/results/predictions/mistral_predictions.csv')\n",
    "\n",
    "df_res.head()"
   ]
  },
  {
   "cell_type": "code",
   "execution_count": 10,
   "id": "a1488b8c",
   "metadata": {},
   "outputs": [
    {
     "data": {
      "text/plain": [
       "'Tu es un assistant expert en analyse sémantique et en inférence.\\n\\nTa tâche est de déterminer si un exposé sommaire d’amendement est en lien, même de manière implicite ou indirecte, avec une idée politique ou conceptuelle.\\n\\nTu dois suivre ces étapes :\\n1. Lire l’exposé sommaire et en donner un bref résumé.\\n2. Identifier les thèmes, préoccupations ou objectifs présents, même s\\'ils ne sont pas formulés explicitement.\\n3. Lire la description de l’idée et résumer les concepts clés qu’elle porte.\\n4. Comparer les deux et indiquer si l’idée est en lien (même implicite) avec l’exposé.\\n\\nRéponds uniquement à la fin par \"Oui\" ou \"Non\".\\n\\n---\\n\\nExposé sommaire :\\nlourdeurs administratives = simplifier les procédures administratives\\n\\n---\\n\\nIdée : AMANR5L16PO791932BTC2600P0D1N004433.json\\n\\nDescription de l’idée :\\nréduire les démarches bureaucratiques complexes et chronophages\\n\\n---\\n\\nAnalyse :\\n1. Résumé de l’exposé :\\n2. Thèmes identifiés :\\n3. Concepts de l’idée :\\n4. Comparaison sémantique :\\n5. L’exposé est-il en lien (même implicite) avec cette idée ?\\nRéponds uniquement par : \\'oui\\' (si l\\'idée décrite est en lien indirect ou direct avec le contenu de l\\'exposé sommaire), \\'non\\' (sinon). Ne donne aucune justification, seulement le terme demandé.'"
      ]
     },
     "execution_count": 10,
     "metadata": {},
     "output_type": "execute_result"
    }
   ],
   "source": [
    "df_res[\"prompt\"].values[0]"
   ]
  },
  {
   "cell_type": "markdown",
   "id": "328dc0bc",
   "metadata": {},
   "source": [
    "'Tu es un assistant expert en analyse sémantique et en inférence.\\n\\nTa tâche est de déterminer si un exposé sommaire d’amendement est en lien, même de manière implicite ou indirecte, avec une idée politique ou conceptuelle.\\n\\nTu dois suivre ces étapes :\\n1. Lire l’exposé sommaire et en donner un bref résumé.\\n2. Identifier les thèmes, préoccupations ou objectifs présents, même s\\'ils ne sont pas formulés explicitement.\\n3. Lire la description de l’idée et résumer les concepts clés qu’elle porte.\\n4. Comparer les deux et indiquer si l’idée est en lien (même implicite) avec l’exposé.\\n\\nRéponds uniquement à la fin par \"Oui\" ou \"Non\".\\n\\n---\\n\\nExposé sommaire :\\nlourdeurs administratives = simplifier les procédures administratives\\n\\n---\\n\\nIdée : AMANR5L16PO791932BTC2600P0D1N004433.json\\n\\nDescription de l’idée :\\nréduire les démarches bureaucratiques complexes et chronophages\\n\\n---\\n\\nAnalyse :\\n1. Résumé de l’exposé :\\n2. Thèmes identifiés :\\n3. Concepts de l’idée :\\n4. Comparaison sémantique :\\n5. L’exposé est-il en lien (même implicite) avec cette idée ?\\nRéponds uniquement par : \\'oui\\' (si l\\'idée décrite est en lien indirect ou direct avec le contenu de l\\'exposé sommaire), \\'non\\' (sinon). Ne donne aucune justification, seulement le terme demandé.'"
   ]
  },
  {
   "cell_type": "code",
   "execution_count": 5,
   "id": "1a560dc3",
   "metadata": {},
   "outputs": [
    {
     "data": {
      "text/plain": [
       "0    oui\n",
       "1    oui\n",
       "Name: prediction, dtype: object"
      ]
     },
     "execution_count": 5,
     "metadata": {},
     "output_type": "execute_result"
    }
   ],
   "source": [
    "df_res[\"prediction\"].str.lower()"
   ]
  },
  {
   "cell_type": "code",
   "execution_count": 6,
   "id": "7c3dcca0",
   "metadata": {},
   "outputs": [
    {
     "data": {
      "text/plain": [
       "0    oui\n",
       "1    oui\n",
       "Name: LABEL, dtype: object"
      ]
     },
     "execution_count": 6,
     "metadata": {},
     "output_type": "execute_result"
    }
   ],
   "source": [
    "df_res[\"LABEL\"].str.lower()"
   ]
  },
  {
   "cell_type": "code",
   "execution_count": 4,
   "id": "d0e2ccc7",
   "metadata": {},
   "outputs": [
    {
     "data": {
      "text/html": [
       "<div>\n",
       "<style scoped>\n",
       "    .dataframe tbody tr th:only-of-type {\n",
       "        vertical-align: middle;\n",
       "    }\n",
       "\n",
       "    .dataframe tbody tr th {\n",
       "        vertical-align: top;\n",
       "    }\n",
       "\n",
       "    .dataframe thead th {\n",
       "        text-align: right;\n",
       "    }\n",
       "</style>\n",
       "<table border=\"1\" class=\"dataframe\">\n",
       "  <thead>\n",
       "    <tr style=\"text-align: right;\">\n",
       "      <th></th>\n",
       "      <th>Nom du fichier</th>\n",
       "      <th>ExposeSommaire</th>\n",
       "      <th>Unnamed: 2</th>\n",
       "      <th>Idées</th>\n",
       "      <th>Description</th>\n",
       "      <th>Listes des amendements</th>\n",
       "      <th>En faveur</th>\n",
       "      <th>Mots recherchés ou Notes</th>\n",
       "      <th>prediction</th>\n",
       "      <th>prompt</th>\n",
       "    </tr>\n",
       "  </thead>\n",
       "  <tbody>\n",
       "    <tr>\n",
       "      <th>0</th>\n",
       "      <td>AMANR5L16PO791932BTC2600P0D1N004433.json</td>\n",
       "      <td>Cet amendement vise à simplifier les procédure...</td>\n",
       "      <td>NaN</td>\n",
       "      <td>lourdeurs administratives = simplifier les pro...</td>\n",
       "      <td>réduire les démarches bureaucratiques complexe...</td>\n",
       "      <td>AMANR5L16PO791932BTC2600P0D1N004433.json</td>\n",
       "      <td>OUI</td>\n",
       "      <td>Simplification administrative qui sert à lutte...</td>\n",
       "      <td>oui</td>\n",
       "      <td>Tu es expert en analyse politique et en compré...</td>\n",
       "    </tr>\n",
       "    <tr>\n",
       "      <th>1</th>\n",
       "      <td>AMANR5L16PO419610B2436P0D1N002108.json</td>\n",
       "      <td>La demande d’extension d’un accord interprofes...</td>\n",
       "      <td>NaN</td>\n",
       "      <td>lourdeurs administratives = simplifier les pro...</td>\n",
       "      <td>réduire les démarches bureaucratiques complexe...</td>\n",
       "      <td>AMANR5L16PO419610B2436P0D1N002108.json</td>\n",
       "      <td>OUI</td>\n",
       "      <td>Je ne sais pas si c'est bien ou pas</td>\n",
       "      <td>oui</td>\n",
       "      <td>Tu es expert en analyse politique et en compré...</td>\n",
       "    </tr>\n",
       "  </tbody>\n",
       "</table>\n",
       "</div>"
      ],
      "text/plain": [
       "                             Nom du fichier  \\\n",
       "0  AMANR5L16PO791932BTC2600P0D1N004433.json   \n",
       "1    AMANR5L16PO419610B2436P0D1N002108.json   \n",
       "\n",
       "                                      ExposeSommaire  Unnamed: 2  \\\n",
       "0  Cet amendement vise à simplifier les procédure...         NaN   \n",
       "1  La demande d’extension d’un accord interprofes...         NaN   \n",
       "\n",
       "                                               Idées  \\\n",
       "0  lourdeurs administratives = simplifier les pro...   \n",
       "1  lourdeurs administratives = simplifier les pro...   \n",
       "\n",
       "                                         Description  \\\n",
       "0  réduire les démarches bureaucratiques complexe...   \n",
       "1  réduire les démarches bureaucratiques complexe...   \n",
       "\n",
       "                     Listes des amendements En faveur   \\\n",
       "0  AMANR5L16PO791932BTC2600P0D1N004433.json        OUI   \n",
       "1    AMANR5L16PO419610B2436P0D1N002108.json        OUI   \n",
       "\n",
       "                            Mots recherchés ou Notes prediction  \\\n",
       "0  Simplification administrative qui sert à lutte...        oui   \n",
       "1                Je ne sais pas si c'est bien ou pas        oui   \n",
       "\n",
       "                                              prompt  \n",
       "0  Tu es expert en analyse politique et en compré...  \n",
       "1  Tu es expert en analyse politique et en compré...  "
      ]
     },
     "execution_count": 4,
     "metadata": {},
     "output_type": "execute_result"
    }
   ],
   "source": [
    "pd.read_csv('../data/results/predictions/openai_predictions.csv')"
   ]
  },
  {
   "cell_type": "code",
   "execution_count": 6,
   "id": "c3520faf",
   "metadata": {},
   "outputs": [],
   "source": [
    "a = {\n",
    "        \"accuracy\": ['é'],\n",
    "        \"precision\": [\"sdfsdf\"],\n",
    "    }"
   ]
  },
  {
   "cell_type": "code",
   "execution_count": 7,
   "id": "a02e3d75",
   "metadata": {},
   "outputs": [],
   "source": [
    "for metric, value in a.items():\n",
    "    a[metric] = value[0]"
   ]
  },
  {
   "cell_type": "code",
   "execution_count": 13,
   "id": "f8eaeffc",
   "metadata": {},
   "outputs": [
    {
     "data": {
      "text/html": [
       "<div>\n",
       "<style scoped>\n",
       "    .dataframe tbody tr th:only-of-type {\n",
       "        vertical-align: middle;\n",
       "    }\n",
       "\n",
       "    .dataframe tbody tr th {\n",
       "        vertical-align: top;\n",
       "    }\n",
       "\n",
       "    .dataframe thead th {\n",
       "        text-align: right;\n",
       "    }\n",
       "</style>\n",
       "<table border=\"1\" class=\"dataframe\">\n",
       "  <thead>\n",
       "    <tr style=\"text-align: right;\">\n",
       "      <th></th>\n",
       "      <th>accuracy</th>\n",
       "      <th>precision</th>\n",
       "      <th>recall</th>\n",
       "      <th>f1_score</th>\n",
       "      <th>prompt</th>\n",
       "      <th>idee</th>\n",
       "      <th>y_true</th>\n",
       "      <th>y_pred</th>\n",
       "      <th>time_eval</th>\n",
       "    </tr>\n",
       "  </thead>\n",
       "  <tbody>\n",
       "    <tr>\n",
       "      <th>0</th>\n",
       "      <td>1.0</td>\n",
       "      <td>1.0</td>\n",
       "      <td>1.0</td>\n",
       "      <td>1.0</td>\n",
       "      <td>Tu es un assistant expert en analyse sémantiqu...</td>\n",
       "      <td>lourdeurs administratives = simplifier les pro...</td>\n",
       "      <td>['oui', 'oui']</td>\n",
       "      <td>['oui', 'oui']</td>\n",
       "      <td>2025-05-08 11:08:34.880457</td>\n",
       "    </tr>\n",
       "  </tbody>\n",
       "</table>\n",
       "</div>"
      ],
      "text/plain": [
       "   accuracy  precision  recall  f1_score  \\\n",
       "0       1.0        1.0     1.0       1.0   \n",
       "\n",
       "                                              prompt  \\\n",
       "0  Tu es un assistant expert en analyse sémantiqu...   \n",
       "\n",
       "                                                idee          y_true  \\\n",
       "0  lourdeurs administratives = simplifier les pro...  ['oui', 'oui']   \n",
       "\n",
       "           y_pred                   time_eval  \n",
       "0  ['oui', 'oui']  2025-05-08 11:08:34.880457  "
      ]
     },
     "execution_count": 13,
     "metadata": {},
     "output_type": "execute_result"
    }
   ],
   "source": [
    "import pandas as pd\n",
    "pd.read_csv('../data/results/eval/evaluations.csv')"
   ]
  },
  {
   "cell_type": "code",
   "execution_count": null,
   "id": "6df86d1f",
   "metadata": {},
   "outputs": [],
   "source": []
  }
 ],
 "metadata": {
  "kernelspec": {
   "display_name": "greenlobby",
   "language": "python",
   "name": "python3"
  },
  "language_info": {
   "codemirror_mode": {
    "name": "ipython",
    "version": 3
   },
   "file_extension": ".py",
   "mimetype": "text/x-python",
   "name": "python",
   "nbconvert_exporter": "python",
   "pygments_lexer": "ipython3",
   "version": "3.13.3"
  }
 },
 "nbformat": 4,
 "nbformat_minor": 5
}
